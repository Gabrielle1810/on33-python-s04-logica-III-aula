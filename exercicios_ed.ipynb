{
 "cells": [
  {
   "cell_type": "code",
   "execution_count": null,
   "metadata": {},
   "outputs": [],
   "source": [
    "lista_de_compras = ['maçã', 'banana', 'pão', 'leite', 'queijo']\n",
    "\n",
    "for item in lista_de_compras:\n",
    "    print(item)\n"
   ]
  },
  {
   "cell_type": "markdown",
   "metadata": {},
   "source": [
    "Exercício: Trabalhando com Tuplas\n",
    "Objetivo: Criar uma tupla com nomes de cores e imprimir cada cor."
   ]
  },
  {
   "cell_type": "code",
   "execution_count": 1,
   "metadata": {},
   "outputs": [
    {
     "name": "stdout",
     "output_type": "stream",
     "text": [
      "vermelho\n",
      "azul\n",
      "amarelo\n",
      "branco\n",
      "preto\n",
      "roxo\n",
      "verde\n",
      "rosa\n",
      "cinza\n"
     ]
    }
   ],
   "source": [
    "cores = ('vermelho', 'azul', 'amarelo', 'branco', 'preto', 'roxo', 'verde', 'rosa', 'cinza')\n",
    "\n",
    "for i in cores:\n",
    "    print(i)\n",
    "\n"
   ]
  },
  {
   "cell_type": "markdown",
   "metadata": {},
   "source": [
    "Exercício: Trabalhando com Dicionários\n",
    "Definindo um dicionário com informações sobre filmes"
   ]
  },
  {
   "cell_type": "code",
   "execution_count": 7,
   "metadata": {},
   "outputs": [
    {
     "name": "stdout",
     "output_type": "stream",
     "text": [
      "O filme Gênio Indomável é do gênero Drama\n",
      "O filme Divertidamente é do gênero Animação\n",
      "O filme Sociedade dos Poetas Mortos é do gênero Comédia/Drama\n"
     ]
    }
   ],
   "source": [
    "informacoes_filmes = {\n",
    "    'Gênio Indomável': 'Drama',\n",
    "    'Divertidamente': 'Animação',\n",
    "    'Sociedade dos Poetas Mortos': 'Comédia/Drama'\n",
    "}\n",
    "\n",
    "for filme, genero in informacoes_filmes.items():\n",
    "    print(f'O filme {filme} é do gênero {genero}')\n",
    "    \n",
    "\n"
   ]
  }
 ],
 "metadata": {
  "kernelspec": {
   "display_name": "Python 3",
   "language": "python",
   "name": "python3"
  },
  "language_info": {
   "codemirror_mode": {
    "name": "ipython",
    "version": 3
   },
   "file_extension": ".py",
   "mimetype": "text/x-python",
   "name": "python",
   "nbconvert_exporter": "python",
   "pygments_lexer": "ipython3",
   "version": "3.12.3"
  }
 },
 "nbformat": 4,
 "nbformat_minor": 2
}
