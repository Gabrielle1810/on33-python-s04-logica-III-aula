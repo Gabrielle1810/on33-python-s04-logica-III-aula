{
 "cells": [
  {
   "cell_type": "markdown",
   "metadata": {},
   "source": [
    "Entendendo for e range."
   ]
  },
  {
   "cell_type": "code",
   "execution_count": 1,
   "metadata": {},
   "outputs": [
    {
     "name": "stdout",
     "output_type": "stream",
     "text": [
      "0\n",
      "1\n",
      "2\n",
      "3\n",
      "4\n"
     ]
    }
   ],
   "source": [
    "for i in range(5):\n",
    "    print(i)\n",
    "    "
   ]
  },
  {
   "cell_type": "code",
   "execution_count": 3,
   "metadata": {},
   "outputs": [
    {
     "name": "stdout",
     "output_type": "stream",
     "text": [
      "Nome 1: Ana\n",
      "Nome 2: Carlos\n",
      "Nome 3: Maria\n",
      "Nome 4: Pedro\n"
     ]
    }
   ],
   "source": [
    "nomes = ['Ana', 'Carlos', 'Maria', 'Pedro']\n",
    "\n",
    "for indice in range(len(nomes)):\n",
    "    print(f'Nome {indice + 1}: {nomes[indice]}')\n",
    "\n"
   ]
  },
  {
   "cell_type": "code",
   "execution_count": null,
   "metadata": {},
   "outputs": [],
   "source": [
    "Exercício: Imprimir números pares de 1 a 10."
   ]
  },
  {
   "cell_type": "code",
   "execution_count": 7,
   "metadata": {},
   "outputs": [
    {
     "name": "stdout",
     "output_type": "stream",
     "text": [
      "O número 0 é par.\n",
      "O número 2 é par.\n",
      "O número 4 é par.\n",
      "O número 6 é par.\n",
      "O número 8 é par.\n",
      "O número 10 é par.\n"
     ]
    }
   ],
   "source": [
    "for i in range(0, 11, 2):\n",
    "    print(f'O número {i} é par.')"
   ]
  },
  {
   "cell_type": "markdown",
   "metadata": {},
   "source": [
    "Exercício 2: Calcular a soma dos primeiros 5 números naturais (lembrando que o zero é um número natural)."
   ]
  },
  {
   "cell_type": "code",
   "execution_count": 58,
   "metadata": {},
   "outputs": [
    {
     "name": "stdout",
     "output_type": "stream",
     "text": [
      "A soma dos 5 primeiros números natuais é 10.\n"
     ]
    }
   ],
   "source": [
    "soma = 0\n",
    "\n",
    "for i in range (0, 5, 1):\n",
    "    soma += i\n",
    "\n",
    "print(f'A soma dos 5 primeiros números natuais é {soma}.')"
   ]
  }
 ],
 "metadata": {
  "kernelspec": {
   "display_name": "Python 3",
   "language": "python",
   "name": "python3"
  },
  "language_info": {
   "codemirror_mode": {
    "name": "ipython",
    "version": 3
   },
   "file_extension": ".py",
   "mimetype": "text/x-python",
   "name": "python",
   "nbconvert_exporter": "python",
   "pygments_lexer": "ipython3",
   "version": "3.12.3"
  }
 },
 "nbformat": 4,
 "nbformat_minor": 2
}
