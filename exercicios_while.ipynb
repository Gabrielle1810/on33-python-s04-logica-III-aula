{
 "cells": [
  {
   "cell_type": "code",
   "execution_count": 2,
   "metadata": {},
   "outputs": [
    {
     "name": "stdout",
     "output_type": "stream",
     "text": [
      "Eu tenho 0 balas\n",
      "Eu tenho 1 balas\n",
      "Eu tenho 2 balas\n",
      "Eu tenho 3 balas\n",
      "Eu tenho 4 balas\n"
     ]
    }
   ],
   "source": [
    "balas = 0\n",
    "\n",
    "while balas < 5:\n",
    "    print('Eu tenho', balas,'balas')\n",
    "    balas = balas + 1\n"
   ]
  },
  {
   "cell_type": "code",
   "execution_count": 3,
   "metadata": {},
   "outputs": [
    {
     "name": "stdout",
     "output_type": "stream",
     "text": [
      "Ainda não está cheio, tenho 0 litros de água no balde\n",
      "Ainda não está cheio, tenho 1 litros de água no balde\n",
      "Ainda não está cheio, tenho 2 litros de água no balde\n",
      "Ainda não está cheio, tenho 3 litros de água no balde\n",
      "Ainda não está cheio, tenho 4 litros de água no balde\n",
      "O balde está cheio\n"
     ]
    }
   ],
   "source": [
    "agua_no_balde = 0\n",
    "balde_cheio = 5\n",
    "\n",
    "while agua_no_balde < balde_cheio:\n",
    "    print(f'Ainda não está cheio, tenho {agua_no_balde} litros de água no balde')\n",
    "    agua_no_balde += 1\n",
    "\n",
    "print('O balde está cheio!')"
   ]
  },
  {
   "cell_type": "markdown",
   "metadata": {},
   "source": [
    "Exercício 1: Contagem Regressiva Simples\n",
    "Este exercício pede para criar um contador regressivo de 5 até 1. "
   ]
  },
  {
   "cell_type": "code",
   "execution_count": 12,
   "metadata": {},
   "outputs": [
    {
     "name": "stdout",
     "output_type": "stream",
     "text": [
      "Faltam 5 segundos.\n",
      "Faltam 4 segundos.\n",
      "Faltam 3 segundos.\n",
      "Faltam 2 segundos.\n",
      "Agora falta 1 segundo. Contagem regressiva concluída!\n"
     ]
    }
   ],
   "source": [
    "contador_maximo = 5\n",
    "contador_minimo = 1\n",
    "\n",
    "while contador_maximo > contador_minimo:\n",
    "    print(f'Faltam {contador_maximo} segundos.')\n",
    "    contador_maximo -= 1\n",
    "          \n",
    "print(f'Agora falta {contador_maximo} segundo. Contagem regressiva concluída!')"
   ]
  },
  {
   "cell_type": "markdown",
   "metadata": {},
   "source": [
    "Exercício 2: Tabuada de Multiplicação.\n",
    "\n",
    "Neste exercício, o programa calcula e exibe a tabuada de multiplicação de um número escolhido pelo usuário. "
   ]
  },
  {
   "cell_type": "code",
   "execution_count": 33,
   "metadata": {},
   "outputs": [
    {
     "name": "stdout",
     "output_type": "stream",
     "text": [
      "5 multiplicado por 1 é 5.\n",
      "5 multiplicado por 2 é 10.\n",
      "5 multiplicado por 3 é 15.\n",
      "5 multiplicado por 4 é 20.\n",
      "5 multiplicado por 5 é 25.\n",
      "5 multiplicado por 6 é 30.\n",
      "5 multiplicado por 7 é 35.\n",
      "5 multiplicado por 8 é 40.\n",
      "5 multiplicado por 9 é 45.\n",
      "5 multiplicado por 10 é 50.\n",
      "Fim da tabuada.\n"
     ]
    }
   ],
   "source": [
    "numero_usuario = int(input('Digite qual tabela da tabuada você deseja saber: '))\n",
    "contador = 1\n",
    "\n",
    "while contador <= 10:\n",
    "    resultado = numero_usuario * contador\n",
    "    print(f'{numero_usuario} multiplicado por {contador} é {resultado}.')\n",
    "    contador += 1\n",
    "\n",
    "print('Fim da tabuada.')"
   ]
  }
 ],
 "metadata": {
  "kernelspec": {
   "display_name": "Python 3",
   "language": "python",
   "name": "python3"
  },
  "language_info": {
   "codemirror_mode": {
    "name": "ipython",
    "version": 3
   },
   "file_extension": ".py",
   "mimetype": "text/x-python",
   "name": "python",
   "nbconvert_exporter": "python",
   "pygments_lexer": "ipython3",
   "version": "3.12.3"
  }
 },
 "nbformat": 4,
 "nbformat_minor": 2
}
